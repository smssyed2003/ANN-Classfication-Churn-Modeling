{
  "cells": [
    {
      "cell_type": "markdown",
      "metadata": {
        "id": "Tce3stUlHN0L"
      },
      "source": [
        "##### Copyright 2024 Google LLC."
      ]
    },
    {
      "cell_type": "code",
      "execution_count": null,
      "metadata": {
        "cellView": "form",
        "id": "tuOe1ymfHZPu"
      },
      "outputs": [],
      "source": [
        "#@title Licensed under the Apache License, Version 2.0 (the \"License\");\n",
        "# you may not use this file except in compliance with the License.\n",
        "# You may obtain a copy of the License at\n",
        "#\n",
        "# https://www.apache.org/licenses/LICENSE-2.0\n",
        "#\n",
        "# Unless required by applicable law or agreed to in writing, software\n",
        "# distributed under the License is distributed on an \"AS IS\" BASIS,\n",
        "# WITHOUT WARRANTIES OR CONDITIONS OF ANY KIND, either express or implied.\n",
        "# See the License for the specific language governing permissions and\n",
        "# limitations under the License."
      ]
    },
    {
      "cell_type": "markdown",
      "metadata": {
        "id": "yeadDkMiISin"
      },
      "source": [
        "# Gemini API: Model tuning with Python"
      ]
    },
    {
      "cell_type": "markdown",
      "metadata": {
        "id": "lEXQ3OwKIa-O"
      },
      "source": [
        "<table class=\"tfo-notebook-buttons\" align=\"left\">\n",
        "  <td>\n",
        "    <a target=\"_blank\" href=\"https://ai.google.dev/gemini-api/docs/model-tuning/python\"><img src=\"https://ai.google.dev/static/site-assets/images/docs/notebook-site-button.png\" height=\"32\" width=\"32\" />View on ai.google.dev</a>\n",
        "  </td>\n",
        "    <td>\n",
        "    <a target=\"_blank\" href=\"https://colab.research.google.com/github/google/generative-ai-docs/blob/main/site/en/gemini-api/docs/model-tuning/python.ipynb\"><img src=\"https://www.tensorflow.org/images/colab_logo_32px.png\" />Run in Google Colab</a>\n",
        "  </td>\n",
        "  <td>\n",
        "    <a target=\"_blank\" href=\"https://github.com/google/generative-ai-docs/blob/main/site/en/gemini-api/docs/model-tuning/python.ipynb\"><img src=\"https://www.tensorflow.org/images/GitHub-Mark-32px.png\" />View source on GitHub</a>\n",
        "  </td>\n",
        "</table>"
      ]
    },
    {
      "cell_type": "markdown",
      "metadata": {
        "id": "Jp_CKyzxUqx6"
      },
      "source": [
        "In this notebook, you'll learn how to get started with the tuning service using the Python client library for the Gemini API. Here, you'll learn how to tune the text model behind the Gemini API's text generation service."
      ]
    },
    {
      "cell_type": "markdown",
      "metadata": {
        "id": "sOz_wyZAlCuQ"
      },
      "source": [
        "## Setup"
      ]
    },
    {
      "cell_type": "markdown",
      "metadata": {
        "id": "aHimx8NGMWDj"
      },
      "source": [
        "### Install the client library"
      ]
    },
    {
      "cell_type": "code",
      "execution_count": 1,
      "metadata": {
        "id": "cbcf72bcb56d"
      },
      "outputs": [],
      "source": [
        "!pip install -q google-generativeai"
      ]
    },
    {
      "cell_type": "markdown",
      "metadata": {
        "id": "jdIYSl2kN0cq"
      },
      "source": [
        "### Import libraries"
      ]
    },
    {
      "cell_type": "code",
      "execution_count": 2,
      "metadata": {
        "id": "8enrppafJPCX"
      },
      "outputs": [],
      "source": [
        "import google.generativeai as genai"
      ]
    },
    {
      "cell_type": "code",
      "execution_count": 3,
      "metadata": {
        "id": "lhqVUjH7ZKUi"
      },
      "outputs": [],
      "source": [
        "from google.colab import userdata\n",
        "genai.configure(api_key=userdata.get('GOOGLE_API_KEY'))"
      ]
    },
    {
      "cell_type": "markdown",
      "metadata": {
        "id": "P-MYZECwlRCq"
      },
      "source": [
        "You can check you existing tuned models with the `genai.list_tuned_model` method."
      ]
    },
    {
      "cell_type": "code",
      "execution_count": 4,
      "metadata": {
        "id": "XyWzoYFxU4r6",
        "outputId": "b594aa7e-07c7-4a58-9107-d56127ec348d",
        "colab": {
          "base_uri": "https://localhost:8080/",
          "height": 35
        }
      },
      "outputs": [
        {
          "output_type": "stream",
          "name": "stdout",
          "text": [
            "tunedModels/generate-num-7360\n"
          ]
        }
      ],
      "source": [
        "for i, m in zip(range(5), genai.list_tuned_models()):\n",
        "  print(m.name)"
      ]
    },
    {
      "cell_type": "markdown",
      "metadata": {
        "id": "BhkXRzciv3Dp"
      },
      "source": [
        "## Create tuned model"
      ]
    },
    {
      "cell_type": "markdown",
      "metadata": {
        "id": "OO8VZYAinLWc"
      },
      "source": [
        "To create a tuned model, you need to pass your dataset to the model in the `genai.create_tuned_model` method. You can do this be directly defining the input and output values in the call or importing from a file into a dataframe to pass to the method.\n",
        "\n",
        "For this example, you will tune a model to generate the next number in the sequence. For example, if the input is `1`, the model should output `2`. If the input is `one hundred`, the output should be `one hundred one`."
      ]
    },
    {
      "cell_type": "code",
      "execution_count": 6,
      "metadata": {
        "id": "w-EBSe9wTbLB",
        "outputId": "8ec421ca-bb41-43f2-f182-f6eaae024849",
        "colab": {
          "base_uri": "https://localhost:8080/",
          "height": 254
        }
      },
      "outputs": [
        {
          "output_type": "execute_result",
          "data": {
            "text/plain": [
              "Model(name='models/gemini-1.5-flash-001-tuning',\n",
              "      base_model_id='',\n",
              "      version='001',\n",
              "      display_name='Gemini 1.5 Flash 001 Tuning',\n",
              "      description=('Version of Gemini 1.5 Flash that supports tuning, our fast and versatile '\n",
              "                   'multimodal model for scaling across diverse tasks, released in May of 2024.'),\n",
              "      input_token_limit=16384,\n",
              "      output_token_limit=8192,\n",
              "      supported_generation_methods=['generateContent', 'countTokens', 'createTunedModel'],\n",
              "      temperature=1.0,\n",
              "      max_temperature=2.0,\n",
              "      top_p=0.95,\n",
              "      top_k=64)"
            ]
          },
          "metadata": {},
          "execution_count": 6
        }
      ],
      "source": [
        "base_model = [\n",
        "    m for m in genai.list_models()\n",
        "    if \"createTunedModel\" in m.supported_generation_methods and\n",
        "    \"flash\" in m.name][0]\n",
        "base_model"
      ]
    },
    {
      "cell_type": "code",
      "source": [
        "import pandas as pd\n",
        "\n",
        "# Replace 'your_file.xlsx' with the actual filename\n",
        "df = pd.read_csv('Governance_Dataset.csv')\n",
        "\n",
        "# Display the dataframe (optional)\n",
        "print(df)\n"
      ],
      "metadata": {
        "id": "p2dT_aRolCQ7",
        "outputId": "62e3aac7-5d30-43a0-a8e5-8d1cd38cd8d5",
        "colab": {
          "base_uri": "https://localhost:8080/"
        }
      },
      "execution_count": 7,
      "outputs": [
        {
          "output_type": "stream",
          "name": "stdout",
          "text": [
            "                                           text_input  \\\n",
            "0   Task type: qa. Domain: healthcare. Difficulty:...   \n",
            "1   Task type: qa. Domain: healthcare. Difficulty:...   \n",
            "2   Task type: qa. Domain: legal. Difficulty: begi...   \n",
            "3   Task type: qa. Domain: finance. Difficulty: be...   \n",
            "4   Task type: qa. Domain: legal. Difficulty: begi...   \n",
            "..                                                ...   \n",
            "95  Task type: ethics_review. Domain: finance. Dif...   \n",
            "96  Task type: ethics_review. Domain: healthcare. ...   \n",
            "97  Task type: ethics_review. Domain: healthcare. ...   \n",
            "98  Task type: ethics_review. Domain: finance. Dif...   \n",
            "99  Task type: ethics_review. Domain: legal. Diffi...   \n",
            "\n",
            "                                               output  \n",
            "0   answer: Data minimization means collecting onl...  \n",
            "1   answer: Metadata governance ensures that data ...  \n",
            "2   answer: A data owner is accountable for data, ...  \n",
            "3   answer: Data minimization means collecting onl...  \n",
            "4   answer: A data owner is accountable for data, ...  \n",
            "..                                                ...  \n",
            "95  ethical_assessment: This practice is ethically...  \n",
            "96  ethical_assessment: This practice is ethically...  \n",
            "97  ethical_assessment: This lacks transparency an...  \n",
            "98  ethical_assessment: This lacks transparency an...  \n",
            "99  ethical_assessment: This lacks transparency an...  \n",
            "\n",
            "[100 rows x 2 columns]\n"
          ]
        }
      ]
    },
    {
      "cell_type": "code",
      "source": [
        "# Convert to list of dictionaries\n",
        "data = df.to_dict(orient='records')\n",
        "\n",
        "# Print to verify\n",
        "for item in data:\n",
        "    print(item)"
      ],
      "metadata": {
        "collapsed": true,
        "id": "UDUDN8palBly",
        "outputId": "dfa7c739-12d0-46ef-aead-eda2d597c26f",
        "colab": {
          "base_uri": "https://localhost:8080/"
        }
      },
      "execution_count": 8,
      "outputs": [
        {
          "output_type": "stream",
          "name": "stdout",
          "text": [
            "{'text_input': 'Task type: qa. Domain: healthcare. Difficulty: intermediate. Source: industry best practice. Task: qa. Input: question: What is data minimization under GDPR?', 'output': 'answer: Data minimization means collecting only the personal data that is necessary for a specific purpose.'}\n",
            "{'text_input': 'Task type: qa. Domain: healthcare. Difficulty: advanced. Source: company policy. Task: qa. Input: question: Why is metadata governance important?', 'output': 'answer: Metadata governance ensures that data is properly described, discoverable, and understandable across systems.'}\n",
            "{'text_input': 'Task type: qa. Domain: legal. Difficulty: beginner. Source: HIPAA. Task: qa. Input: question: What is the difference between data owner and data steward?', 'output': 'answer: A data owner is accountable for data, while a data steward manages data quality and compliance.'}\n",
            "{'text_input': 'Task type: qa. Domain: finance. Difficulty: beginner. Source: HIPAA. Task: qa. Input: question: What is data minimization under GDPR?', 'output': 'answer: Data minimization means collecting only the personal data that is necessary for a specific purpose.'}\n",
            "{'text_input': 'Task type: qa. Domain: legal. Difficulty: beginner. Source: industry best practice. Task: qa. Input: question: What is the difference between data owner and data steward?', 'output': 'answer: A data owner is accountable for data, while a data steward manages data quality and compliance.'}\n",
            "{'text_input': 'Task type: qa. Domain: finance. Difficulty: beginner. Source: internal guideline. Task: qa. Input: question: Why is metadata governance important?', 'output': 'answer: Metadata governance ensures that data is properly described, discoverable, and understandable across systems.'}\n",
            "{'text_input': 'Task type: qa. Domain: finance. Difficulty: intermediate. Source: company policy. Task: qa. Input: question: What is the difference between data owner and data steward?', 'output': 'answer: A data owner is accountable for data, while a data steward manages data quality and compliance.'}\n",
            "{'text_input': 'Task type: qa. Domain: legal. Difficulty: advanced. Source: internal guideline. Task: qa. Input: question: Why is metadata governance important?', 'output': 'answer: Metadata governance ensures that data is properly described, discoverable, and understandable across systems.'}\n",
            "{'text_input': 'Task type: qa. Domain: healthcare. Difficulty: intermediate. Source: HIPAA. Task: qa. Input: question: What is the difference between data owner and data steward?', 'output': 'answer: A data owner is accountable for data, while a data steward manages data quality and compliance.'}\n",
            "{'text_input': 'Task type: qa. Domain: healthcare. Difficulty: intermediate. Source: EU GDPR. Task: qa. Input: question: Why is metadata governance important?', 'output': 'answer: Metadata governance ensures that data is properly described, discoverable, and understandable across systems.'}\n",
            "{'text_input': 'Task type: qa. Domain: general. Difficulty: intermediate. Source: industry best practice. Task: qa. Input: question: What is the difference between data owner and data steward?', 'output': 'answer: A data owner is accountable for data, while a data steward manages data quality and compliance.'}\n",
            "{'text_input': 'Task type: qa. Domain: general. Difficulty: beginner. Source: EU GDPR. Task: qa. Input: question: What is the difference between data owner and data steward?', 'output': 'answer: A data owner is accountable for data, while a data steward manages data quality and compliance.'}\n",
            "{'text_input': 'Task type: qa. Domain: education. Difficulty: advanced. Source: internal guideline. Task: qa. Input: question: Why is metadata governance important?', 'output': 'answer: Metadata governance ensures that data is properly described, discoverable, and understandable across systems.'}\n",
            "{'text_input': 'Task type: qa. Domain: education. Difficulty: beginner. Source: industry best practice. Task: qa. Input: question: What is the difference between data owner and data steward?', 'output': 'answer: A data owner is accountable for data, while a data steward manages data quality and compliance.'}\n",
            "{'text_input': 'Task type: qa. Domain: healthcare. Difficulty: intermediate. Source: EU GDPR. Task: qa. Input: question: What is data minimization under GDPR?', 'output': 'answer: Data minimization means collecting only the personal data that is necessary for a specific purpose.'}\n",
            "{'text_input': 'Task type: qa. Domain: finance. Difficulty: beginner. Source: EU GDPR. Task: qa. Input: question: What is the difference between data owner and data steward?', 'output': 'answer: A data owner is accountable for data, while a data steward manages data quality and compliance.'}\n",
            "{'text_input': 'Task type: qa. Domain: general. Difficulty: beginner. Source: EU GDPR. Task: qa. Input: question: Why is metadata governance important?', 'output': 'answer: Metadata governance ensures that data is properly described, discoverable, and understandable across systems.'}\n",
            "{'text_input': 'Task type: qa. Domain: legal. Difficulty: advanced. Source: company policy. Task: qa. Input: question: What is data minimization under GDPR?', 'output': 'answer: Data minimization means collecting only the personal data that is necessary for a specific purpose.'}\n",
            "{'text_input': 'Task type: qa. Domain: general. Difficulty: intermediate. Source: internal guideline. Task: qa. Input: question: What is the difference between data owner and data steward?', 'output': 'answer: A data owner is accountable for data, while a data steward manages data quality and compliance.'}\n",
            "{'text_input': 'Task type: qa. Domain: legal. Difficulty: intermediate. Source: internal guideline. Task: qa. Input: question: What is data minimization under GDPR?', 'output': 'answer: Data minimization means collecting only the personal data that is necessary for a specific purpose.'}\n",
            "{'text_input': \"Task type: policy_drafting. Domain: education. Difficulty: intermediate. Source: industry best practice. Task: policy_drafting. Input: context: We want to analyze customer support chats for improving service quality., requirements: ['Anonymize data', 'Notify users']\", 'output': 'policy_text: Chat data may be analyzed to enhance service quality. All data is anonymized and users are informed about this practice.'}\n",
            "{'text_input': \"Task type: policy_drafting. Domain: education. Difficulty: intermediate. Source: company policy. Task: policy_drafting. Input: context: The organization plans to collect biometric data for access control., requirements: ['Obtain user consent', 'Ensure data encryption']\", 'output': 'policy_text: We collect biometric data solely for access control. Data is encrypted and stored securely. Users must provide explicit consent before data collection.'}\n",
            "{'text_input': \"Task type: policy_drafting. Domain: finance. Difficulty: advanced. Source: internal guideline. Task: policy_drafting. Input: context: The organization plans to collect biometric data for access control., requirements: ['Obtain user consent', 'Ensure data encryption']\", 'output': 'policy_text: We collect biometric data solely for access control. Data is encrypted and stored securely. Users must provide explicit consent before data collection.'}\n",
            "{'text_input': \"Task type: policy_drafting. Domain: healthcare. Difficulty: beginner. Source: internal guideline. Task: policy_drafting. Input: context: We want to analyze customer support chats for improving service quality., requirements: ['Anonymize data', 'Notify users']\", 'output': 'policy_text: Chat data may be analyzed to enhance service quality. All data is anonymized and users are informed about this practice.'}\n",
            "{'text_input': \"Task type: policy_drafting. Domain: finance. Difficulty: intermediate. Source: company policy. Task: policy_drafting. Input: context: We want to analyze customer support chats for improving service quality., requirements: ['Anonymize data', 'Notify users']\", 'output': 'policy_text: Chat data may be analyzed to enhance service quality. All data is anonymized and users are informed about this practice.'}\n",
            "{'text_input': \"Task type: policy_drafting. Domain: education. Difficulty: advanced. Source: company policy. Task: policy_drafting. Input: context: We want to analyze customer support chats for improving service quality., requirements: ['Anonymize data', 'Notify users']\", 'output': 'policy_text: Chat data may be analyzed to enhance service quality. All data is anonymized and users are informed about this practice.'}\n",
            "{'text_input': \"Task type: policy_drafting. Domain: finance. Difficulty: beginner. Source: EU GDPR. Task: policy_drafting. Input: context: We want to analyze customer support chats for improving service quality., requirements: ['Anonymize data', 'Notify users']\", 'output': 'policy_text: Chat data may be analyzed to enhance service quality. All data is anonymized and users are informed about this practice.'}\n",
            "{'text_input': \"Task type: policy_drafting. Domain: finance. Difficulty: intermediate. Source: industry best practice. Task: policy_drafting. Input: context: The organization plans to collect biometric data for access control., requirements: ['Obtain user consent', 'Ensure data encryption']\", 'output': 'policy_text: We collect biometric data solely for access control. Data is encrypted and stored securely. Users must provide explicit consent before data collection.'}\n",
            "{'text_input': \"Task type: policy_drafting. Domain: education. Difficulty: beginner. Source: HIPAA. Task: policy_drafting. Input: context: We want to analyze customer support chats for improving service quality., requirements: ['Anonymize data', 'Notify users']\", 'output': 'policy_text: Chat data may be analyzed to enhance service quality. All data is anonymized and users are informed about this practice.'}\n",
            "{'text_input': \"Task type: policy_drafting. Domain: education. Difficulty: intermediate. Source: HIPAA. Task: policy_drafting. Input: context: The organization plans to collect biometric data for access control., requirements: ['Obtain user consent', 'Ensure data encryption']\", 'output': 'policy_text: We collect biometric data solely for access control. Data is encrypted and stored securely. Users must provide explicit consent before data collection.'}\n",
            "{'text_input': \"Task type: policy_drafting. Domain: legal. Difficulty: intermediate. Source: EU GDPR. Task: policy_drafting. Input: context: We want to analyze customer support chats for improving service quality., requirements: ['Anonymize data', 'Notify users']\", 'output': 'policy_text: Chat data may be analyzed to enhance service quality. All data is anonymized and users are informed about this practice.'}\n",
            "{'text_input': \"Task type: policy_drafting. Domain: legal. Difficulty: beginner. Source: company policy. Task: policy_drafting. Input: context: The organization plans to collect biometric data for access control., requirements: ['Obtain user consent', 'Ensure data encryption']\", 'output': 'policy_text: We collect biometric data solely for access control. Data is encrypted and stored securely. Users must provide explicit consent before data collection.'}\n",
            "{'text_input': \"Task type: policy_drafting. Domain: education. Difficulty: advanced. Source: HIPAA. Task: policy_drafting. Input: context: We want to analyze customer support chats for improving service quality., requirements: ['Anonymize data', 'Notify users']\", 'output': 'policy_text: Chat data may be analyzed to enhance service quality. All data is anonymized and users are informed about this practice.'}\n",
            "{'text_input': \"Task type: policy_drafting. Domain: general. Difficulty: beginner. Source: industry best practice. Task: policy_drafting. Input: context: We want to analyze customer support chats for improving service quality., requirements: ['Anonymize data', 'Notify users']\", 'output': 'policy_text: Chat data may be analyzed to enhance service quality. All data is anonymized and users are informed about this practice.'}\n",
            "{'text_input': \"Task type: policy_drafting. Domain: education. Difficulty: advanced. Source: company policy. Task: policy_drafting. Input: context: The organization plans to collect biometric data for access control., requirements: ['Obtain user consent', 'Ensure data encryption']\", 'output': 'policy_text: We collect biometric data solely for access control. Data is encrypted and stored securely. Users must provide explicit consent before data collection.'}\n",
            "{'text_input': \"Task type: policy_drafting. Domain: healthcare. Difficulty: intermediate. Source: EU GDPR. Task: policy_drafting. Input: context: We want to analyze customer support chats for improving service quality., requirements: ['Anonymize data', 'Notify users']\", 'output': 'policy_text: Chat data may be analyzed to enhance service quality. All data is anonymized and users are informed about this practice.'}\n",
            "{'text_input': \"Task type: policy_drafting. Domain: general. Difficulty: advanced. Source: industry best practice. Task: policy_drafting. Input: context: The organization plans to collect biometric data for access control., requirements: ['Obtain user consent', 'Ensure data encryption']\", 'output': 'policy_text: We collect biometric data solely for access control. Data is encrypted and stored securely. Users must provide explicit consent before data collection.'}\n",
            "{'text_input': \"Task type: policy_drafting. Domain: education. Difficulty: advanced. Source: HIPAA. Task: policy_drafting. Input: context: The organization plans to collect biometric data for access control., requirements: ['Obtain user consent', 'Ensure data encryption']\", 'output': 'policy_text: We collect biometric data solely for access control. Data is encrypted and stored securely. Users must provide explicit consent before data collection.'}\n",
            "{'text_input': \"Task type: policy_drafting. Domain: finance. Difficulty: advanced. Source: HIPAA. Task: policy_drafting. Input: context: The organization plans to collect biometric data for access control., requirements: ['Obtain user consent', 'Ensure data encryption']\", 'output': 'policy_text: We collect biometric data solely for access control. Data is encrypted and stored securely. Users must provide explicit consent before data collection.'}\n",
            "{'text_input': \"Task type: policy_drafting. Domain: general. Difficulty: intermediate. Source: industry best practice. Task: policy_drafting. Input: context: We want to analyze customer support chats for improving service quality., requirements: ['Anonymize data', 'Notify users']\", 'output': 'policy_text: Chat data may be analyzed to enhance service quality. All data is anonymized and users are informed about this practice.'}\n",
            "{'text_input': 'Task type: compliance_check. Domain: general. Difficulty: intermediate. Source: HIPAA. Task: compliance_check. Input: text: Our app records voice interactions without user notification.', 'output': \"compliant: False, violations: ['Lack of consent', 'No notification', 'Potential GDPR violation']\"}\n",
            "{'text_input': 'Task type: compliance_check. Domain: healthcare. Difficulty: beginner. Source: EU GDPR. Task: compliance_check. Input: text: We delete all user data 30 days after account closure.', 'output': 'compliant: True, violations: []'}\n",
            "{'text_input': 'Task type: compliance_check. Domain: general. Difficulty: beginner. Source: internal guideline. Task: compliance_check. Input: text: We delete all user data 30 days after account closure.', 'output': 'compliant: True, violations: []'}\n",
            "{'text_input': 'Task type: compliance_check. Domain: legal. Difficulty: intermediate. Source: HIPAA. Task: compliance_check. Input: text: Our app records voice interactions without user notification.', 'output': \"compliant: False, violations: ['Lack of consent', 'No notification', 'Potential GDPR violation']\"}\n",
            "{'text_input': 'Task type: compliance_check. Domain: education. Difficulty: beginner. Source: industry best practice. Task: compliance_check. Input: text: Our app records voice interactions without user notification.', 'output': \"compliant: False, violations: ['Lack of consent', 'No notification', 'Potential GDPR violation']\"}\n",
            "{'text_input': 'Task type: compliance_check. Domain: education. Difficulty: intermediate. Source: industry best practice. Task: compliance_check. Input: text: We delete all user data 30 days after account closure.', 'output': 'compliant: True, violations: []'}\n",
            "{'text_input': 'Task type: compliance_check. Domain: general. Difficulty: beginner. Source: industry best practice. Task: compliance_check. Input: text: Our app records voice interactions without user notification.', 'output': \"compliant: False, violations: ['Lack of consent', 'No notification', 'Potential GDPR violation']\"}\n",
            "{'text_input': 'Task type: compliance_check. Domain: legal. Difficulty: beginner. Source: HIPAA. Task: compliance_check. Input: text: Our app records voice interactions without user notification.', 'output': \"compliant: False, violations: ['Lack of consent', 'No notification', 'Potential GDPR violation']\"}\n",
            "{'text_input': 'Task type: compliance_check. Domain: legal. Difficulty: beginner. Source: internal guideline. Task: compliance_check. Input: text: We delete all user data 30 days after account closure.', 'output': 'compliant: True, violations: []'}\n",
            "{'text_input': 'Task type: compliance_check. Domain: education. Difficulty: intermediate. Source: EU GDPR. Task: compliance_check. Input: text: We delete all user data 30 days after account closure.', 'output': 'compliant: True, violations: []'}\n",
            "{'text_input': 'Task type: compliance_check. Domain: education. Difficulty: advanced. Source: industry best practice. Task: compliance_check. Input: text: We delete all user data 30 days after account closure.', 'output': 'compliant: True, violations: []'}\n",
            "{'text_input': 'Task type: compliance_check. Domain: education. Difficulty: beginner. Source: industry best practice. Task: compliance_check. Input: text: We delete all user data 30 days after account closure.', 'output': 'compliant: True, violations: []'}\n",
            "{'text_input': 'Task type: compliance_check. Domain: legal. Difficulty: beginner. Source: HIPAA. Task: compliance_check. Input: text: Our app records voice interactions without user notification.', 'output': \"compliant: False, violations: ['Lack of consent', 'No notification', 'Potential GDPR violation']\"}\n",
            "{'text_input': 'Task type: compliance_check. Domain: general. Difficulty: advanced. Source: EU GDPR. Task: compliance_check. Input: text: We delete all user data 30 days after account closure.', 'output': 'compliant: True, violations: []'}\n",
            "{'text_input': 'Task type: compliance_check. Domain: healthcare. Difficulty: advanced. Source: internal guideline. Task: compliance_check. Input: text: Our app records voice interactions without user notification.', 'output': \"compliant: False, violations: ['Lack of consent', 'No notification', 'Potential GDPR violation']\"}\n",
            "{'text_input': 'Task type: compliance_check. Domain: finance. Difficulty: beginner. Source: industry best practice. Task: compliance_check. Input: text: Our app records voice interactions without user notification.', 'output': \"compliant: False, violations: ['Lack of consent', 'No notification', 'Potential GDPR violation']\"}\n",
            "{'text_input': 'Task type: compliance_check. Domain: finance. Difficulty: intermediate. Source: EU GDPR. Task: compliance_check. Input: text: Our app records voice interactions without user notification.', 'output': \"compliant: False, violations: ['Lack of consent', 'No notification', 'Potential GDPR violation']\"}\n",
            "{'text_input': 'Task type: compliance_check. Domain: general. Difficulty: intermediate. Source: company policy. Task: compliance_check. Input: text: We delete all user data 30 days after account closure.', 'output': 'compliant: True, violations: []'}\n",
            "{'text_input': 'Task type: compliance_check. Domain: general. Difficulty: advanced. Source: EU GDPR. Task: compliance_check. Input: text: Our app records voice interactions without user notification.', 'output': \"compliant: False, violations: ['Lack of consent', 'No notification', 'Potential GDPR violation']\"}\n",
            "{'text_input': 'Task type: compliance_check. Domain: finance. Difficulty: advanced. Source: internal guideline. Task: compliance_check. Input: text: Our app records voice interactions without user notification.', 'output': \"compliant: False, violations: ['Lack of consent', 'No notification', 'Potential GDPR violation']\"}\n",
            "{'text_input': 'Task type: classification. Domain: legal. Difficulty: advanced. Source: HIPAA. Task: classification. Input: text: The breach exposed unencrypted customer records.', 'output': 'label: breach'}\n",
            "{'text_input': 'Task type: classification. Domain: legal. Difficulty: beginner. Source: industry best practice. Task: classification. Input: text: This document outlines employee responsibilities in handling PII.', 'output': 'label: policy'}\n",
            "{'text_input': 'Task type: classification. Domain: legal. Difficulty: advanced. Source: HIPAA. Task: classification. Input: text: The breach exposed unencrypted customer records.', 'output': 'label: breach'}\n",
            "{'text_input': 'Task type: classification. Domain: general. Difficulty: advanced. Source: internal guideline. Task: classification. Input: text: This document outlines employee responsibilities in handling PII.', 'output': 'label: policy'}\n",
            "{'text_input': 'Task type: classification. Domain: finance. Difficulty: advanced. Source: industry best practice. Task: classification. Input: text: This document outlines employee responsibilities in handling PII.', 'output': 'label: policy'}\n",
            "{'text_input': 'Task type: classification. Domain: healthcare. Difficulty: beginner. Source: company policy. Task: classification. Input: text: This document outlines employee responsibilities in handling PII.', 'output': 'label: policy'}\n",
            "{'text_input': 'Task type: classification. Domain: healthcare. Difficulty: beginner. Source: internal guideline. Task: classification. Input: text: The breach exposed unencrypted customer records.', 'output': 'label: breach'}\n",
            "{'text_input': 'Task type: classification. Domain: education. Difficulty: intermediate. Source: EU GDPR. Task: classification. Input: text: This document outlines employee responsibilities in handling PII.', 'output': 'label: policy'}\n",
            "{'text_input': 'Task type: classification. Domain: legal. Difficulty: intermediate. Source: industry best practice. Task: classification. Input: text: The breach exposed unencrypted customer records.', 'output': 'label: breach'}\n",
            "{'text_input': 'Task type: classification. Domain: legal. Difficulty: beginner. Source: EU GDPR. Task: classification. Input: text: The breach exposed unencrypted customer records.', 'output': 'label: breach'}\n",
            "{'text_input': 'Task type: classification. Domain: legal. Difficulty: beginner. Source: EU GDPR. Task: classification. Input: text: The breach exposed unencrypted customer records.', 'output': 'label: breach'}\n",
            "{'text_input': 'Task type: classification. Domain: legal. Difficulty: advanced. Source: company policy. Task: classification. Input: text: Our AI uses customer profiles to offer financial advice.', 'output': 'label: ethical risk'}\n",
            "{'text_input': 'Task type: classification. Domain: legal. Difficulty: beginner. Source: industry best practice. Task: classification. Input: text: The breach exposed unencrypted customer records.', 'output': 'label: breach'}\n",
            "{'text_input': 'Task type: classification. Domain: education. Difficulty: intermediate. Source: HIPAA. Task: classification. Input: text: This document outlines employee responsibilities in handling PII.', 'output': 'label: policy'}\n",
            "{'text_input': 'Task type: classification. Domain: finance. Difficulty: intermediate. Source: internal guideline. Task: classification. Input: text: The breach exposed unencrypted customer records.', 'output': 'label: breach'}\n",
            "{'text_input': 'Task type: classification. Domain: healthcare. Difficulty: intermediate. Source: company policy. Task: classification. Input: text: Our AI uses customer profiles to offer financial advice.', 'output': 'label: ethical risk'}\n",
            "{'text_input': 'Task type: classification. Domain: general. Difficulty: beginner. Source: HIPAA. Task: classification. Input: text: The breach exposed unencrypted customer records.', 'output': 'label: breach'}\n",
            "{'text_input': 'Task type: classification. Domain: finance. Difficulty: intermediate. Source: HIPAA. Task: classification. Input: text: Our AI uses customer profiles to offer financial advice.', 'output': 'label: ethical risk'}\n",
            "{'text_input': 'Task type: classification. Domain: finance. Difficulty: beginner. Source: EU GDPR. Task: classification. Input: text: Our AI uses customer profiles to offer financial advice.', 'output': 'label: ethical risk'}\n",
            "{'text_input': 'Task type: classification. Domain: healthcare. Difficulty: beginner. Source: HIPAA. Task: classification. Input: text: Our AI uses customer profiles to offer financial advice.', 'output': 'label: ethical risk'}\n",
            "{'text_input': 'Task type: summarization. Domain: education. Difficulty: advanced. Source: company policy. Task: summarization. Input: text: All user data must be handled with strict confidentiality and only accessed by authorized personnel during the performance of their duties.', 'output': 'summary: User data must be confidential and accessed only by authorized staff.'}\n",
            "{'text_input': 'Task type: summarization. Domain: education. Difficulty: beginner. Source: EU GDPR. Task: summarization. Input: text: All user data must be handled with strict confidentiality and only accessed by authorized personnel during the performance of their duties.', 'output': 'summary: User data must be confidential and accessed only by authorized staff.'}\n",
            "{'text_input': 'Task type: summarization. Domain: legal. Difficulty: advanced. Source: company policy. Task: summarization. Input: text: Personal data collected will be stored in encrypted form and only for as long as necessary to fulfill its intended use.', 'output': 'summary: Data is encrypted and retained only as needed.'}\n",
            "{'text_input': 'Task type: summarization. Domain: legal. Difficulty: beginner. Source: company policy. Task: summarization. Input: text: All user data must be handled with strict confidentiality and only accessed by authorized personnel during the performance of their duties.', 'output': 'summary: User data must be confidential and accessed only by authorized staff.'}\n",
            "{'text_input': 'Task type: summarization. Domain: finance. Difficulty: intermediate. Source: company policy. Task: summarization. Input: text: All user data must be handled with strict confidentiality and only accessed by authorized personnel during the performance of their duties.', 'output': 'summary: User data must be confidential and accessed only by authorized staff.'}\n",
            "{'text_input': 'Task type: summarization. Domain: finance. Difficulty: beginner. Source: HIPAA. Task: summarization. Input: text: All user data must be handled with strict confidentiality and only accessed by authorized personnel during the performance of their duties.', 'output': 'summary: User data must be confidential and accessed only by authorized staff.'}\n",
            "{'text_input': 'Task type: summarization. Domain: education. Difficulty: intermediate. Source: EU GDPR. Task: summarization. Input: text: Personal data collected will be stored in encrypted form and only for as long as necessary to fulfill its intended use.', 'output': 'summary: Data is encrypted and retained only as needed.'}\n",
            "{'text_input': 'Task type: summarization. Domain: education. Difficulty: intermediate. Source: industry best practice. Task: summarization. Input: text: Personal data collected will be stored in encrypted form and only for as long as necessary to fulfill its intended use.', 'output': 'summary: Data is encrypted and retained only as needed.'}\n",
            "{'text_input': 'Task type: summarization. Domain: general. Difficulty: beginner. Source: EU GDPR. Task: summarization. Input: text: Personal data collected will be stored in encrypted form and only for as long as necessary to fulfill its intended use.', 'output': 'summary: Data is encrypted and retained only as needed.'}\n",
            "{'text_input': 'Task type: summarization. Domain: education. Difficulty: beginner. Source: HIPAA. Task: summarization. Input: text: All user data must be handled with strict confidentiality and only accessed by authorized personnel during the performance of their duties.', 'output': 'summary: User data must be confidential and accessed only by authorized staff.'}\n",
            "{'text_input': 'Task type: ethics_review. Domain: education. Difficulty: advanced. Source: company policy. Task: ethics_review. Input: scenario: A fitness app shares user health data with insurance providers without user knowledge.', 'output': 'ethical_assessment: This lacks transparency and user consent, violating ethical principles of privacy and autonomy.'}\n",
            "{'text_input': 'Task type: ethics_review. Domain: general. Difficulty: beginner. Source: industry best practice. Task: ethics_review. Input: scenario: An AI model rates employee productivity using their screen time without telling them.', 'output': 'ethical_assessment: This practice is ethically questionable due to lack of informed consent and potential misuse of surveillance data.'}\n",
            "{'text_input': 'Task type: ethics_review. Domain: legal. Difficulty: beginner. Source: industry best practice. Task: ethics_review. Input: scenario: An AI model rates employee productivity using their screen time without telling them.', 'output': 'ethical_assessment: This practice is ethically questionable due to lack of informed consent and potential misuse of surveillance data.'}\n",
            "{'text_input': 'Task type: ethics_review. Domain: finance. Difficulty: intermediate. Source: company policy. Task: ethics_review. Input: scenario: An AI model rates employee productivity using their screen time without telling them.', 'output': 'ethical_assessment: This practice is ethically questionable due to lack of informed consent and potential misuse of surveillance data.'}\n",
            "{'text_input': 'Task type: ethics_review. Domain: finance. Difficulty: beginner. Source: HIPAA. Task: ethics_review. Input: scenario: An AI model rates employee productivity using their screen time without telling them.', 'output': 'ethical_assessment: This practice is ethically questionable due to lack of informed consent and potential misuse of surveillance data.'}\n",
            "{'text_input': 'Task type: ethics_review. Domain: finance. Difficulty: advanced. Source: company policy. Task: ethics_review. Input: scenario: An AI model rates employee productivity using their screen time without telling them.', 'output': 'ethical_assessment: This practice is ethically questionable due to lack of informed consent and potential misuse of surveillance data.'}\n",
            "{'text_input': 'Task type: ethics_review. Domain: healthcare. Difficulty: intermediate. Source: company policy. Task: ethics_review. Input: scenario: An AI model rates employee productivity using their screen time without telling them.', 'output': 'ethical_assessment: This practice is ethically questionable due to lack of informed consent and potential misuse of surveillance data.'}\n",
            "{'text_input': 'Task type: ethics_review. Domain: healthcare. Difficulty: intermediate. Source: company policy. Task: ethics_review. Input: scenario: A fitness app shares user health data with insurance providers without user knowledge.', 'output': 'ethical_assessment: This lacks transparency and user consent, violating ethical principles of privacy and autonomy.'}\n",
            "{'text_input': 'Task type: ethics_review. Domain: finance. Difficulty: advanced. Source: industry best practice. Task: ethics_review. Input: scenario: A fitness app shares user health data with insurance providers without user knowledge.', 'output': 'ethical_assessment: This lacks transparency and user consent, violating ethical principles of privacy and autonomy.'}\n",
            "{'text_input': 'Task type: ethics_review. Domain: legal. Difficulty: intermediate. Source: HIPAA. Task: ethics_review. Input: scenario: A fitness app shares user health data with insurance providers without user knowledge.', 'output': 'ethical_assessment: This lacks transparency and user consent, violating ethical principles of privacy and autonomy.'}\n"
          ]
        }
      ]
    },
    {
      "cell_type": "code",
      "execution_count": 10,
      "metadata": {
        "id": "baHjHh1oTTTC"
      },
      "outputs": [],
      "source": [
        "import random\n",
        "\n",
        "name = f'generate-num-{random.randint(0,10000)}'\n",
        "operation = genai.create_tuned_model(\n",
        "    # You can use a tuned model here too. Set `source_model=\"tunedModels/...\"`\n",
        "    source_model=base_model.name,\n",
        "    training_data= data,\n",
        "    id = name,\n",
        "    epoch_count = 100,\n",
        "    batch_size=4,\n",
        "    learning_rate=0.001,\n",
        ")"
      ]
    },
    {
      "cell_type": "markdown",
      "metadata": {
        "id": "-As7ayWDK1w8"
      },
      "source": [
        "Your tuned model is immediately added to the list of tuned models, but its status is set to \"creating\" while the model is tuned."
      ]
    },
    {
      "cell_type": "code",
      "execution_count": 11,
      "metadata": {
        "id": "su64KgY4Uztj",
        "outputId": "ff37b393-7528-4491-8435-35717b725668",
        "colab": {
          "base_uri": "https://localhost:8080/",
          "height": 345
        }
      },
      "outputs": [
        {
          "output_type": "execute_result",
          "data": {
            "text/plain": [
              "TunedModel(name='tunedModels/generate-num-3785',\n",
              "           source_model='models/gemini-1.5-flash-001-tuning',\n",
              "           base_model='models/gemini-1.5-flash-001-tuning',\n",
              "           display_name='',\n",
              "           description='',\n",
              "           temperature=1.0,\n",
              "           top_p=0.95,\n",
              "           top_k=64,\n",
              "           state=<State.CREATING: 1>,\n",
              "           create_time=datetime.datetime(2025, 6, 4, 10, 57, 30, 168475, tzinfo=datetime.timezone.utc),\n",
              "           update_time=datetime.datetime(2025, 6, 4, 10, 57, 30, 168475, tzinfo=datetime.timezone.utc),\n",
              "           tuning_task=TuningTask(start_time=datetime.datetime(2025, 6, 4, 10, 57, 31, 63161, tzinfo=datetime.timezone.utc),\n",
              "                                  complete_time=None,\n",
              "                                  snapshots=[],\n",
              "                                  hyperparameters=Hyperparameters(epoch_count=100,\n",
              "                                                                  batch_size=4,\n",
              "                                                                  learning_rate=0.001)),\n",
              "           reader_project_numbers=None)"
            ]
          },
          "metadata": {},
          "execution_count": 11
        }
      ],
      "source": [
        "model = genai.get_tuned_model(f'tunedModels/{name}')\n",
        "\n",
        "model"
      ]
    },
    {
      "cell_type": "code",
      "execution_count": 12,
      "metadata": {
        "id": "EUodUwZkKPi-",
        "outputId": "fcbd091b-5a45-429e-d94a-cf9cfff7bdde",
        "colab": {
          "base_uri": "https://localhost:8080/"
        }
      },
      "outputs": [
        {
          "output_type": "execute_result",
          "data": {
            "text/plain": [
              "<State.CREATING: 1>"
            ]
          },
          "metadata": {},
          "execution_count": 12
        }
      ],
      "source": [
        "model.state"
      ]
    },
    {
      "cell_type": "markdown",
      "metadata": {
        "id": "Pi8X5vkQv-3_"
      },
      "source": [
        "### Check tuning progress"
      ]
    },
    {
      "cell_type": "markdown",
      "metadata": {
        "id": "tWI-vAh4LJIz"
      },
      "source": [
        "Use `metadata` to check the state:"
      ]
    },
    {
      "cell_type": "code",
      "execution_count": 13,
      "metadata": {
        "id": "g08vqtxYLMxT",
        "outputId": "1e3670a8-409c-4d8b-a0e0-012475ded13a",
        "colab": {
          "base_uri": "https://localhost:8080/"
        }
      },
      "outputs": [
        {
          "output_type": "execute_result",
          "data": {
            "text/plain": [
              "total_steps: 2500\n",
              "tuned_model: \"tunedModels/generate-num-3785\""
            ]
          },
          "metadata": {},
          "execution_count": 13
        }
      ],
      "source": [
        "operation.metadata"
      ]
    },
    {
      "cell_type": "markdown",
      "metadata": {
        "id": "3lQ6gSMgK-kz"
      },
      "source": [
        "Wait for the training to finish using `operation.result()`, or `operation.wait_bar()`"
      ]
    },
    {
      "cell_type": "code",
      "execution_count": 14,
      "metadata": {
        "id": "SOUowIv1HgSE",
        "outputId": "b457fb49-7b88-42dc-8c27-81d583760fdf",
        "colab": {
          "base_uri": "https://localhost:8080/",
          "height": 49,
          "referenced_widgets": [
            "a64b718bd12f4692af4bfafa0e0abe10",
            "500450b4e34c41ef8ce9260f0f6fe865",
            "8b10c81b44294a019da63e208fb0d487",
            "804e81e34bd44cecbfc0e8b8dd12bcb3",
            "aef04b0cda9d496186225d2d31230f79",
            "65fc03e819cb4f0ba6ad88bc9251ffe1",
            "26493d8e45de441c80d99a54cf913331",
            "cdcdb4fe60384e5aa7e287e955a9cca0",
            "84a148e0669e416b9c4886c47550e242",
            "5624093a2cae49ac86c6b74d2924cb91",
            "ce936b70c20943d6bb6d39f7ff034018"
          ]
        }
      },
      "outputs": [
        {
          "output_type": "display_data",
          "data": {
            "text/plain": [
              "  0%|          | 0/2500 [00:00<?, ?it/s]"
            ],
            "application/vnd.jupyter.widget-view+json": {
              "version_major": 2,
              "version_minor": 0,
              "model_id": "a64b718bd12f4692af4bfafa0e0abe10"
            }
          },
          "metadata": {}
        }
      ],
      "source": [
        "import time\n",
        "\n",
        "for status in operation.wait_bar():\n",
        "  time.sleep(30)"
      ]
    },
    {
      "cell_type": "markdown",
      "metadata": {
        "id": "4cg868HzqOx5"
      },
      "source": [
        "You can cancel your tuning job any time using the `cancel()` method. Uncomment the line below and run the code cell to cancel your job before it finishes."
      ]
    },
    {
      "cell_type": "code",
      "execution_count": null,
      "metadata": {
        "id": "oQuJ70_hqJi9"
      },
      "outputs": [],
      "source": [
        "# operation.cancel()"
      ]
    },
    {
      "cell_type": "markdown",
      "metadata": {
        "id": "lqiL0TWDqAPn"
      },
      "source": [
        "Once the tuning is complete, you can view the loss curve from the tuning results. The [loss curve](https://ai.google.dev/gemini-api/docs/model-tuning#recommended_configurations) shows how much the model's predictions deviate from the ideal outputs."
      ]
    },
    {
      "cell_type": "code",
      "execution_count": 15,
      "metadata": {
        "id": "bIiG57xWLhP7",
        "outputId": "431fe51c-7822-421a-e536-9c7abf76f168",
        "colab": {
          "base_uri": "https://localhost:8080/",
          "height": 467
        }
      },
      "outputs": [
        {
          "output_type": "execute_result",
          "data": {
            "text/plain": [
              "<Axes: xlabel='epoch', ylabel='mean_loss'>"
            ]
          },
          "metadata": {},
          "execution_count": 15
        },
        {
          "output_type": "display_data",
          "data": {
            "text/plain": [
              "<Figure size 640x480 with 1 Axes>"
            ],
            "image/png": "[encoded data removed]"
          },
          "metadata": {}
        }
      ],
      "source": [
        "import pandas as pd\n",
        "import seaborn as sns\n",
        "\n",
        "model = operation.result()\n",
        "\n",
        "snapshots = pd.DataFrame(model.tuning_task.snapshots)\n",
        "\n",
        "sns.lineplot(data=snapshots, x = 'epoch', y='mean_loss')\n"
      ]
    },
    {
      "cell_type": "markdown",
      "metadata": {
        "id": "rkoQTXb1vSBC"
      },
      "source": [
        "## Evaluate your model\n",
        "\n",
        "You can use the `genai.generate_content` method and specify the name of your model to test your model performance."
      ]
    },
    {
      "cell_type": "code",
      "execution_count": 16,
      "metadata": {
        "id": "zO0YcuSyxydZ"
      },
      "outputs": [],
      "source": [
        "model = genai.GenerativeModel(model_name=f'tunedModels/{name}')"
      ]
    },
    {
      "cell_type": "code",
      "execution_count": 18,
      "metadata": {
        "id": "UwGrrj6hS_x2",
        "outputId": "8547ad45-4a43-4287-ac0a-34f48334d2fd",
        "colab": {
          "base_uri": "https://localhost:8080/",
          "height": 54
        }
      },
      "outputs": [
        {
          "output_type": "execute_result",
          "data": {
            "text/plain": [
              "'This is ethically questionable and legally risky. Users must be informed and consent to recording. Lack of notification violates privacy and trust. This practice is likely to be considered illegal in many jurisdictions.'"
            ],
            "application/vnd.google.colaboratory.intrinsic+json": {
              "type": "string"
            }
          },
          "metadata": {},
          "execution_count": 18
        }
      ],
      "source": [
        "result = model.generate_content('Our app records voice interactions without user notification')\n",
        "result.text"
      ]
    },
    {
      "cell_type": "code",
      "execution_count": null,
      "metadata": {
        "id": "YSNB2zjTx5SZ",
        "outputId": "06eb2877-b743-47fa-892a-aba652aeb1b0"
      },
      "outputs": [
        {
          "data": {
            "application/vnd.google.colaboratory.intrinsic+json": {
              "type": "string"
            },
            "text/plain": [
              "'123456'"
            ]
          },
          "execution_count": 16,
          "metadata": {},
          "output_type": "execute_result"
        }
      ],
      "source": [
        "result = model.generate_content('123455')\n",
        "result.text"
      ]
    },
    {
      "cell_type": "code",
      "execution_count": null,
      "metadata": {
        "id": "Y2YVO-m0Ut9H",
        "outputId": "9b19d13d-2a3d-403f-c69a-f9d6e91a19a1"
      },
      "outputs": [
        {
          "data": {
            "application/vnd.google.colaboratory.intrinsic+json": {
              "type": "string"
            },
            "text/plain": [
              "'five'"
            ]
          },
          "execution_count": 17,
          "metadata": {},
          "output_type": "execute_result"
        }
      ],
      "source": [
        "result = model.generate_content('four')\n",
        "result.text"
      ]
    },
    {
      "cell_type": "code",
      "execution_count": null,
      "metadata": {
        "id": "h2MkTR0uTb6U",
        "outputId": "52df84e0-aed9-4d63-aae7-8b7d366980af"
      },
      "outputs": [
        {
          "data": {
            "application/vnd.google.colaboratory.intrinsic+json": {
              "type": "string"
            },
            "text/plain": [
              "'cinq'"
            ]
          },
          "execution_count": 18,
          "metadata": {},
          "output_type": "execute_result"
        }
      ],
      "source": [
        "result = model.generate_content('quatre') # French 4\n",
        "result.text                               # French 5 is \"cinq\""
      ]
    },
    {
      "cell_type": "code",
      "execution_count": null,
      "metadata": {
        "id": "OruCW1zETsZw",
        "outputId": "49704523-e596-4eae-8699-d2135947eddb"
      },
      "outputs": [
        {
          "data": {
            "application/vnd.google.colaboratory.intrinsic+json": {
              "type": "string"
            },
            "text/plain": [
              "'IV'"
            ]
          },
          "execution_count": 19,
          "metadata": {},
          "output_type": "execute_result"
        }
      ],
      "source": [
        "result = model.generate_content('III')    # Roman numeral 3\n",
        "result.text                               # Roman numeral 4 is IV"
      ]
    },
    {
      "cell_type": "code",
      "execution_count": null,
      "metadata": {
        "id": "thDdSuUDUJOx",
        "outputId": "e810399a-2612-44a3-9d3e-ca0f8650da07"
      },
      "outputs": [
        {
          "data": {
            "application/vnd.google.colaboratory.intrinsic+json": {
              "type": "string"
            },
            "text/plain": [
              "'八'"
            ]
          },
          "execution_count": 20,
          "metadata": {},
          "output_type": "execute_result"
        }
      ],
      "source": [
        "result = model.generate_content('七')  # Japanese 7\n",
        "result.text                            # Japanese 8 is 八!"
      ]
    },
    {
      "cell_type": "markdown",
      "metadata": {
        "id": "HpIA1IFevQQR"
      },
      "source": [
        "It really seems to have picked up the task despite the limited examples, but \"next\" is a simple concept, see the [tuning guide](https://ai.google.dev/gemini-api/docs/model-tuning) for more guidance on improving performance."
      ]
    },
    {
      "cell_type": "markdown",
      "metadata": {
        "id": "nmuQCbTYwIOx"
      },
      "source": [
        "## Update the description\n",
        "\n",
        "You can update the description of your tuned model any time using the `genai.update_tuned_model` method."
      ]
    },
    {
      "cell_type": "code",
      "execution_count": 19,
      "metadata": {
        "id": "9gAVuXT_wG3x"
      },
      "outputs": [],
      "source": [
        "genai.update_tuned_model(f'tunedModels/{name}', {\"description\":\"This is my model.\"});"
      ]
    },
    {
      "cell_type": "code",
      "execution_count": 20,
      "metadata": {
        "id": "d-c3YerBxVYs",
        "outputId": "7ae633d0-739b-466a-8412-fd46557a7695",
        "colab": {
          "base_uri": "https://localhost:8080/",
          "height": 36
        }
      },
      "outputs": [
        {
          "output_type": "execute_result",
          "data": {
            "text/plain": [
              "'This is my model.'"
            ],
            "application/vnd.google.colaboratory.intrinsic+json": {
              "type": "string"
            }
          },
          "metadata": {},
          "execution_count": 20
        }
      ],
      "source": [
        "model = genai.get_tuned_model(f'tunedModels/{name}')\n",
        "\n",
        "model.description"
      ]
    },
    {
      "cell_type": "markdown",
      "metadata": {
        "id": "i_TpwvBB4bQ7"
      },
      "source": [
        "## Delete the model\n",
        "\n",
        "You can clean up your tuned model list by deleting models you no longer need. Use the `genai.delete_tuned_model` method to delete a model. If you canceled any tuning jobs, you may want to delete those as their performance may be unpredictable."
      ]
    },
    {
      "cell_type": "code",
      "execution_count": 5,
      "metadata": {
        "id": "cepfaUCvVGCo"
      },
      "outputs": [],
      "source": [
        "genai.delete_tuned_model(f'tunedModels/{name}')"
      ]
    },
    {
      "cell_type": "markdown",
      "metadata": {
        "id": "ljEssIshYDEr"
      },
      "source": [
        "The model no longer exists:"
      ]
    },
    {
      "cell_type": "code",
      "execution_count": 21,
      "metadata": {
        "id": "kN_bkut_4ayL",
        "outputId": "4072ae64-7093-4c43-ee11-23fa28475c96",
        "colab": {
          "base_uri": "https://localhost:8080/",
          "height": 345
        }
      },
      "outputs": [
        {
          "output_type": "stream",
          "name": "stdout",
          "text": [
            "TunedModel(name='tunedModels/generate-num-3785',\n",
            "           source_model='models/gemini-1.5-flash-001-tuning',\n",
            "           base_model='models/gemini-1.5-flash-001-tuning',\n",
            "           display_name='',\n",
            "           description='This is my model.',\n",
            "           temperature=1.0,\n",
            "           top_p=0.95,\n",
            "           top_k=64,\n",
            "           state=<State.ACTIVE: 2>,\n",
            "           create_time=datetime.datetime(2025, 6, 4, 10, 57, 30, 168475, tzinfo=datetime.timezone.utc),\n",
            "           update_time=datetime.datetime(2025, 6, 4, 12, 47, 40, 814765, tzinfo=datetime.timezone.utc),\n",
            "           tuning_task=TuningTask(start_time=datetime.datetime(2025, 6, 4, 10, 57, 31, 63161, tzinfo=datetime.timezone.utc),\n",
            "                                  complete_time=datetime.datetime(2025, 6, 4, 12, 47, 40, 814765, tzinfo=datetime.timezone.utc),\n",
            "                                  snapshots=[...],\n",
            "                                  hyperparameters=Hyperparameters(epoch_count=100,\n",
            "                                                                  batch_size=4,\n",
            "                                                                  learning_rate=0.001)),\n",
            "           reader_project_numbers=None)\n"
          ]
        }
      ],
      "source": [
        "try:\n",
        "  m = genai.get_tuned_model(f'tunedModels/{name}')\n",
        "  print(m)\n",
        "except Exception as e:\n",
        "  print(f\"{type(e)}: {e}\")"
      ]
    },
    {
      "cell_type": "code",
      "source": [],
      "metadata": {
        "id": "ZitcHCbsCN2I"
      },
      "execution_count": null,
      "outputs": []
    }
  ],
  "metadata": {
    "colab": {
      "name": "python.ipynb",
      "toc_visible": true,
      "provenance": [],
      "gpuType": "T4"
    },
    "kernelspec": {
      "display_name": "Python 3",
      "name": "python3"
    },
    "accelerator": "GPU",
    "widgets": {
      "application/vnd.jupyter.widget-state+json": {
        "a64b718bd12f4692af4bfafa0e0abe10": {
          "model_module": "@jupyter-widgets/controls",
          "model_name": "HBoxModel",
          "model_module_version": "1.5.0",
          "state": {
            "_dom_classes": [],
            "_model_module": "@jupyter-widgets/controls",
            "_model_module_version": "1.5.0",
            "_model_name": "HBoxModel",
            "_view_count": null,
            "_view_module": "@jupyter-widgets/controls",
            "_view_module_version": "1.5.0",
            "_view_name": "HBoxView",
            "box_style": "",
            "children": [
              "IPY_MODEL_500450b4e34c41ef8ce9260f0f6fe865",
              "IPY_MODEL_8b10c81b44294a019da63e208fb0d487",
              "IPY_MODEL_804e81e34bd44cecbfc0e8b8dd12bcb3"
            ],
            "layout": "IPY_MODEL_aef04b0cda9d496186225d2d31230f79"
          }
        },
        "500450b4e34c41ef8ce9260f0f6fe865": {
          "model_module": "@jupyter-widgets/controls",
          "model_name": "HTMLModel",
          "model_module_version": "1.5.0",
          "state": {
            "_dom_classes": [],
            "_model_module": "@jupyter-widgets/controls",
            "_model_module_version": "1.5.0",
            "_model_name": "HTMLModel",
            "_view_count": null,
            "_view_module": "@jupyter-widgets/controls",
            "_view_module_version": "1.5.0",
            "_view_name": "HTMLView",
            "description": "",
            "description_tooltip": null,
            "layout": "IPY_MODEL_65fc03e819cb4f0ba6ad88bc9251ffe1",
            "placeholder": "​",
            "style": "IPY_MODEL_26493d8e45de441c80d99a54cf913331",
            "value": "100%"
          }
        },
        "8b10c81b44294a019da63e208fb0d487": {
          "model_module": "@jupyter-widgets/controls",
          "model_name": "FloatProgressModel",
          "model_module_version": "1.5.0",
          "state": {
            "_dom_classes": [],
            "_model_module": "@jupyter-widgets/controls",
            "_model_module_version": "1.5.0",
            "_model_name": "FloatProgressModel",
            "_view_count": null,
            "_view_module": "@jupyter-widgets/controls",
            "_view_module_version": "1.5.0",
            "_view_name": "ProgressView",
            "bar_style": "success",
            "description": "",
            "description_tooltip": null,
            "layout": "IPY_MODEL_cdcdb4fe60384e5aa7e287e955a9cca0",
            "max": 2500,
            "min": 0,
            "orientation": "horizontal",
            "style": "IPY_MODEL_84a148e0669e416b9c4886c47550e242",
            "value": 2500
          }
        },
        "804e81e34bd44cecbfc0e8b8dd12bcb3": {
          "model_module": "@jupyter-widgets/controls",
          "model_name": "HTMLModel",
          "model_module_version": "1.5.0",
          "state": {
            "_dom_classes": [],
            "_model_module": "@jupyter-widgets/controls",
            "_model_module_version": "1.5.0",
            "_model_name": "HTMLModel",
            "_view_count": null,
            "_view_module": "@jupyter-widgets/controls",
            "_view_module_version": "1.5.0",
            "_view_name": "HTMLView",
            "description": "",
            "description_tooltip": null,
            "layout": "IPY_MODEL_5624093a2cae49ac86c6b74d2924cb91",
            "placeholder": "​",
            "style": "IPY_MODEL_ce936b70c20943d6bb6d39f7ff034018",
            "value": " 2500/2500 [1:49:58&lt;00:00,  2.67s/it]"
          }
        },
        "aef04b0cda9d496186225d2d31230f79": {
          "model_module": "@jupyter-widgets/base",
          "model_name": "LayoutModel",
          "model_module_version": "1.2.0",
          "state": {
            "_model_module": "@jupyter-widgets/base",
            "_model_module_version": "1.2.0",
            "_model_name": "LayoutModel",
            "_view_count": null,
            "_view_module": "@jupyter-widgets/base",
            "_view_module_version": "1.2.0",
            "_view_name": "LayoutView",
            "align_content": null,
            "align_items": null,
            "align_self": null,
            "border": null,
            "bottom": null,
            "display": null,
            "flex": null,
            "flex_flow": null,
            "grid_area": null,
            "grid_auto_columns": null,
            "grid_auto_flow": null,
            "grid_auto_rows": null,
            "grid_column": null,
            "grid_gap": null,
            "grid_row": null,
            "grid_template_areas": null,
            "grid_template_columns": null,
            "grid_template_rows": null,
            "height": null,
            "justify_content": null,
            "justify_items": null,
            "left": null,
            "margin": null,
            "max_height": null,
            "max_width": null,
            "min_height": null,
            "min_width": null,
            "object_fit": null,
            "object_position": null,
            "order": null,
            "overflow": null,
            "overflow_x": null,
            "overflow_y": null,
            "padding": null,
            "right": null,
            "top": null,
            "visibility": null,
            "width": null
          }
        },
        "65fc03e819cb4f0ba6ad88bc9251ffe1": {
          "model_module": "@jupyter-widgets/base",
          "model_name": "LayoutModel",
          "model_module_version": "1.2.0",
          "state": {
            "_model_module": "@jupyter-widgets/base",
            "_model_module_version": "1.2.0",
            "_model_name": "LayoutModel",
            "_view_count": null,
            "_view_module": "@jupyter-widgets/base",
            "_view_module_version": "1.2.0",
            "_view_name": "LayoutView",
            "align_content": null,
            "align_items": null,
            "align_self": null,
            "border": null,
            "bottom": null,
            "display": null,
            "flex": null,
            "flex_flow": null,
            "grid_area": null,
            "grid_auto_columns": null,
            "grid_auto_flow": null,
            "grid_auto_rows": null,
            "grid_column": null,
            "grid_gap": null,
            "grid_row": null,
            "grid_template_areas": null,
            "grid_template_columns": null,
            "grid_template_rows": null,
            "height": null,
            "justify_content": null,
            "justify_items": null,
            "left": null,
            "margin": null,
            "max_height": null,
            "max_width": null,
            "min_height": null,
            "min_width": null,
            "object_fit": null,
            "object_position": null,
            "order": null,
            "overflow": null,
            "overflow_x": null,
            "overflow_y": null,
            "padding": null,
            "right": null,
            "top": null,
            "visibility": null,
            "width": null
          }
        },
        "26493d8e45de441c80d99a54cf913331": {
          "model_module": "@jupyter-widgets/controls",
          "model_name": "DescriptionStyleModel",
          "model_module_version": "1.5.0",
          "state": {
            "_model_module": "@jupyter-widgets/controls",
            "_model_module_version": "1.5.0",
            "_model_name": "DescriptionStyleModel",
            "_view_count": null,
            "_view_module": "@jupyter-widgets/base",
            "_view_module_version": "1.2.0",
            "_view_name": "StyleView",
            "description_width": ""
          }
        },
        "cdcdb4fe60384e5aa7e287e955a9cca0": {
          "model_module": "@jupyter-widgets/base",
          "model_name": "LayoutModel",
          "model_module_version": "1.2.0",
          "state": {
            "_model_module": "@jupyter-widgets/base",
            "_model_module_version": "1.2.0",
            "_model_name": "LayoutModel",
            "_view_count": null,
            "_view_module": "@jupyter-widgets/base",
            "_view_module_version": "1.2.0",
            "_view_name": "LayoutView",
            "align_content": null,
            "align_items": null,
            "align_self": null,
            "border": null,
            "bottom": null,
            "display": null,
            "flex": null,
            "flex_flow": null,
            "grid_area": null,
            "grid_auto_columns": null,
            "grid_auto_flow": null,
            "grid_auto_rows": null,
            "grid_column": null,
            "grid_gap": null,
            "grid_row": null,
            "grid_template_areas": null,
            "grid_template_columns": null,
            "grid_template_rows": null,
            "height": null,
            "justify_content": null,
            "justify_items": null,
            "left": null,
            "margin": null,
            "max_height": null,
            "max_width": null,
            "min_height": null,
            "min_width": null,
            "object_fit": null,
            "object_position": null,
            "order": null,
            "overflow": null,
            "overflow_x": null,
            "overflow_y": null,
            "padding": null,
            "right": null,
            "top": null,
            "visibility": null,
            "width": null
          }
        },
        "84a148e0669e416b9c4886c47550e242": {
          "model_module": "@jupyter-widgets/controls",
          "model_name": "ProgressStyleModel",
          "model_module_version": "1.5.0",
          "state": {
            "_model_module": "@jupyter-widgets/controls",
            "_model_module_version": "1.5.0",
            "_model_name": "ProgressStyleModel",
            "_view_count": null,
            "_view_module": "@jupyter-widgets/base",
            "_view_module_version": "1.2.0",
            "_view_name": "StyleView",
            "bar_color": null,
            "description_width": ""
          }
        },
        "5624093a2cae49ac86c6b74d2924cb91": {
          "model_module": "@jupyter-widgets/base",
          "model_name": "LayoutModel",
          "model_module_version": "1.2.0",
          "state": {
            "_model_module": "@jupyter-widgets/base",
            "_model_module_version": "1.2.0",
            "_model_name": "LayoutModel",
            "_view_count": null,
            "_view_module": "@jupyter-widgets/base",
            "_view_module_version": "1.2.0",
            "_view_name": "LayoutView",
            "align_content": null,
            "align_items": null,
            "align_self": null,
            "border": null,
            "bottom": null,
            "display": null,
            "flex": null,
            "flex_flow": null,
            "grid_area": null,
            "grid_auto_columns": null,
            "grid_auto_flow": null,
            "grid_auto_rows": null,
            "grid_column": null,
            "grid_gap": null,
            "grid_row": null,
            "grid_template_areas": null,
            "grid_template_columns": null,
            "grid_template_rows": null,
            "height": null,
            "justify_content": null,
            "justify_items": null,
            "left": null,
            "margin": null,
            "max_height": null,
            "max_width": null,
            "min_height": null,
            "min_width": null,
            "object_fit": null,
            "object_position": null,
            "order": null,
            "overflow": null,
            "overflow_x": null,
            "overflow_y": null,
            "padding": null,
            "right": null,
            "top": null,
            "visibility": null,
            "width": null
          }
        },
        "ce936b70c20943d6bb6d39f7ff034018": {
          "model_module": "@jupyter-widgets/controls",
          "model_name": "DescriptionStyleModel",
          "model_module_version": "1.5.0",
          "state": {
            "_model_module": "@jupyter-widgets/controls",
            "_model_module_version": "1.5.0",
            "_model_name": "DescriptionStyleModel",
            "_view_count": null,
            "_view_module": "@jupyter-widgets/base",
            "_view_module_version": "1.2.0",
            "_view_name": "StyleView",
            "description_width": ""
          }
        }
      }
    }
  },
  "nbformat": 4,
  "nbformat_minor": 0
}